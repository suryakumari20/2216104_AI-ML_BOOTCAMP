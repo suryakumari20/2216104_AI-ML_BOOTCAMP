{
  "nbformat": 4,
  "nbformat_minor": 0,
  "metadata": {
    "colab": {
      "name": "ass1.ipynb",
      "provenance": [],
      "collapsed_sections": [],
      "authorship_tag": "ABX9TyN3mRZcaz9dl4aidpxNmYDA",
      "include_colab_link": true
    },
    "kernelspec": {
      "name": "python3",
      "display_name": "Python 3"
    },
    "language_info": {
      "name": "python"
    }
  },
  "cells": [
    {
      "cell_type": "markdown",
      "metadata": {
        "id": "view-in-github",
        "colab_type": "text"
      },
      "source": [
        "<a href=\"https://colab.research.google.com/github/suryakumari20/2216104_AI-ML_BOOTCAMP/blob/main/ass1.ipynb\" target=\"_parent\"><img src=\"https://colab.research.google.com/assets/colab-badge.svg\" alt=\"Open In Colab\"/></a>"
      ]
    },
    {
      "cell_type": "code",
      "execution_count": null,
      "metadata": {
        "colab": {
          "base_uri": "https://localhost:8080/"
        },
        "id": "Rll53SP2v9Er",
        "outputId": "00283bed-ff1b-4317-ab02-eded2f9588d2"
      },
      "outputs": [
        {
          "output_type": "stream",
          "name": "stdout",
          "text": [
            "SHOW MUST GO ON\n",
            "show must go on\n",
            "sHOW MUST GO oN\n",
            "Show Must Go On\n",
            "Show must go on\n"
          ]
        }
      ],
      "source": [
        "#1. implemention of methods of strings\n",
        "sstr=\"Show must go On\"\n",
        "print(sstr.upper())\n",
        "print(sstr.lower())\n",
        "print(sstr.swapcase())\n",
        "print(sstr.title())\n",
        "print(sstr.capitalize())\n"
      ]
    },
    {
      "cell_type": "code",
      "source": [
        "#2.implementation of methods of list\n",
        "s_list=[20,1.45,\"hai\",'c',3]\n",
        "s_list.append(9)\n",
        "print(s_list)\n",
        "s_list.extend([67.45,\"hello\",0])\n",
        "print(s_list)\n",
        "s_list.insert(4,12)\n",
        "print(s_list)\n",
        "del s_list[0]\n",
        "print(s_list)\n",
        "del s_list[5:7]\n",
        "print(s_list)\n",
        "s_list.remove(3)\n",
        "print(s_list)\n",
        "s_list.pop()\n",
        "print(s_list)\n",
        "s_list.clear()\n",
        "print(s_list)"
      ],
      "metadata": {
        "colab": {
          "base_uri": "https://localhost:8080/"
        },
        "id": "QXT1Bzwv1kD1",
        "outputId": "727bdd04-3d6b-4b78-bea8-db06d5efb12c"
      },
      "execution_count": null,
      "outputs": [
        {
          "output_type": "stream",
          "name": "stdout",
          "text": [
            "[20, 1.45, 'hai', 'c', 3, 9]\n",
            "[20, 1.45, 'hai', 'c', 3, 9, 67.45, 'hello', 0]\n",
            "[20, 1.45, 'hai', 'c', 12, 3, 9, 67.45, 'hello', 0]\n",
            "[1.45, 'hai', 'c', 12, 3, 9, 67.45, 'hello', 0]\n",
            "[1.45, 'hai', 'c', 12, 3, 'hello', 0]\n",
            "[1.45, 'hai', 'c', 12, 'hello', 0]\n",
            "[1.45, 'hai', 'c', 12, 'hello']\n",
            "[]\n"
          ]
        }
      ]
    },
    {
      "cell_type": "code",
      "source": [
        "#3.implementation of methods of tuples\n",
        "tl1=(23,96,\"hello\",\"bye\",5.26,103,103,12.65,46)\n",
        "print(tl1.count(103))\n",
        "tl=(3,6,9,23,78,105)\n",
        "print(max(tl))\n",
        "print(min(tl))\n",
        "print(len(tl))"
      ],
      "metadata": {
        "colab": {
          "base_uri": "https://localhost:8080/"
        },
        "id": "rfWqXyU7N6kM",
        "outputId": "db5c9be7-4b41-4754-b945-d4528a67fffa"
      },
      "execution_count": null,
      "outputs": [
        {
          "output_type": "stream",
          "name": "stdout",
          "text": [
            "2\n",
            "105\n",
            "3\n",
            "6\n"
          ]
        }
      ]
    },
    {
      "cell_type": "code",
      "source": [
        "#4.implementation of methods of sets\n",
        "t={1,4,5,\"hi\",4.5}\n",
        "t.add(7)\n",
        "print(t)\n",
        "t.update([4,9,2])\n",
        "print(t)\n",
        "t.discard('hi')\n",
        "print(t)\n",
        "t.remove(4.5)\n",
        "print(t)\n"
      ],
      "metadata": {
        "colab": {
          "base_uri": "https://localhost:8080/"
        },
        "id": "2a1RsDNKCfaP",
        "outputId": "f9006223-7380-4120-9200-a57c73c8d78d"
      },
      "execution_count": null,
      "outputs": [
        {
          "output_type": "stream",
          "name": "stdout",
          "text": [
            "{1, 4.5, 4, 5, 7, 'hi'}\n",
            "{1, 2, 4.5, 4, 5, 7, 9, 'hi'}\n",
            "{1, 2, 4.5, 4, 5, 7, 9}\n",
            "{1, 2, 4, 5, 7, 9}\n"
          ]
        }
      ]
    },
    {
      "cell_type": "code",
      "source": [
        "#5.implementation of methods of dictionary\n",
        "d={'name':'surya','phno':2349287,'address':'hnk','studying':'b.tech','stream':'cse'}\n",
        "print(d[\"stream\"])\n",
        "print(d.keys())\n",
        "print(d.values())\n",
        "print(d.get('studying'))\n",
        "name=\"surya\"\n",
        "studying=\"b.tech\"\n",
        "year=\" 2 nd year\"\n",
        "college=\"sru\"\n",
        "print(name,\"is studing\",studying,\"in\",college)\n",
        "print(\"{} is studing {} {} in {}\".format(name,studying,year,college))\n",
        "print(\"{1} {2} {3} {0}\".format(name,studying,year,college))\n",
        "print(\"%s is studing %s %s in %s\"%(name,studying,year,college))\n",
        "print(f\"{name} currently pursuing her {studying} {year} in {college}\")"
      ],
      "metadata": {
        "colab": {
          "base_uri": "https://localhost:8080/"
        },
        "id": "br67lyx1HRKG",
        "outputId": "feca71e6-f826-4583-c71b-187e27f00c14"
      },
      "execution_count": null,
      "outputs": [
        {
          "output_type": "stream",
          "name": "stdout",
          "text": [
            "cse\n",
            "dict_keys(['name', 'phno', 'address', 'studying', 'stream'])\n",
            "dict_values(['surya', 2349287, 'hnk', 'b.tech', 'cse'])\n",
            "b.tech\n",
            "surya is studing b.tech in sru\n",
            "surya is studing b.tech  2 nd year in sru\n",
            "b.tech  2 nd year sru surya\n",
            "surya is studing b.tech  2 nd year in sru\n",
            "surya currently pursuing her b.tech  2 nd year in sru\n"
          ]
        }
      ]
    },
    {
      "cell_type": "code",
      "source": [
        "#6)Write a python program to convert Decimal to Binary, Octal and Hexadecimal with direct method.\n",
        "num=int(input(\"Enter a number:\"))\n",
        "print(bin(num))\n",
        "print(oct(num))\n",
        "print(hex(num))"
      ],
      "metadata": {
        "colab": {
          "base_uri": "https://localhost:8080/"
        },
        "id": "i2uUa7uIk89Z",
        "outputId": "21437e2c-1d6d-4c5f-ee43-68793046882a"
      },
      "execution_count": 1,
      "outputs": [
        {
          "output_type": "stream",
          "name": "stdout",
          "text": [
            "Enter a number:23\n",
            "0b10111\n",
            "0o27\n",
            "0x17\n"
          ]
        }
      ]
    },
    {
      "cell_type": "code",
      "source": [
        "#7) Implement Arithmetic operators with examples\n",
        "a=int(input(\"Enter a number:\"))\n",
        "b=int(input(\"Enter a number:\"))\n",
        "print(a+b)\n",
        "print(abs(a-b))\n",
        "print(a*b)\n",
        "print(a/b)\n",
        "print(a%b)\n",
        "print(a**b)\n",
        "print(a//b)"
      ],
      "metadata": {
        "colab": {
          "base_uri": "https://localhost:8080/"
        },
        "id": "wIY2sZNPlNTm",
        "outputId": "2742db4f-1ae6-43f1-a2ff-09892d70561b"
      },
      "execution_count": 2,
      "outputs": [
        {
          "output_type": "stream",
          "name": "stdout",
          "text": [
            "Enter a number:46\n",
            "Enter a number:20\n",
            "66\n",
            "26\n",
            "920\n",
            "2.3\n",
            "6\n",
            "1799519816997495209117766334283776\n",
            "2\n"
          ]
        }
      ]
    },
    {
      "cell_type": "code",
      "source": [
        "#8) Implement Assignment operators with examples.\n",
        "x=58\n",
        "y=40\n",
        "print(x)\n",
        "x+=3\n",
        "print(x)\n",
        "x-=3\n",
        "print(x)\n",
        "x*=3\n",
        "print(x)\n",
        "x/=3\n",
        "print(x)\n",
        "x%=3\n",
        "print(x)\n",
        "y//=3\n",
        "print(y)\n",
        "y**=3\n",
        "print(y)"
      ],
      "metadata": {
        "colab": {
          "base_uri": "https://localhost:8080/"
        },
        "id": "ccYPKF0nlbOs",
        "outputId": "8efa428c-3ae0-44ff-a1b2-6a1a9cdc92f6"
      },
      "execution_count": 3,
      "outputs": [
        {
          "output_type": "stream",
          "name": "stdout",
          "text": [
            "58\n",
            "61\n",
            "58\n",
            "174\n",
            "58.0\n",
            "1.0\n",
            "13\n",
            "2197\n"
          ]
        }
      ]
    },
    {
      "cell_type": "code",
      "source": [
        "#9) Implement Comparison operators with examples.\n",
        "x1=\"yes\"\n",
        "y1=\"no\"\n",
        "print(x1==y1)\n",
        "print(x1!=y1)\n",
        "print(x1>y1)\n",
        "print(x1<y1)\n",
        "print(x1>=y1)\n",
        "print(x1<=y1)\n"
      ],
      "metadata": {
        "colab": {
          "base_uri": "https://localhost:8080/"
        },
        "id": "ebbG5O44lmiq",
        "outputId": "fb1cc75c-a1c7-4240-cedf-1e673544a061"
      },
      "execution_count": 4,
      "outputs": [
        {
          "output_type": "stream",
          "name": "stdout",
          "text": [
            "False\n",
            "True\n",
            "True\n",
            "False\n",
            "True\n",
            "False\n"
          ]
        }
      ]
    },
    {
      "cell_type": "code",
      "source": [
        "#10) Implement Logical operators with examples.\n",
        "a1=11\n",
        "b1=5\n",
        "print(a1==5 and b1==11)\n",
        "print(a1==11 or b1==5)\n",
        "print(not a1==b1)"
      ],
      "metadata": {
        "colab": {
          "base_uri": "https://localhost:8080/"
        },
        "id": "EMPA-yhTl2z4",
        "outputId": "f63fab3b-89a2-42a5-f865-f0b4a9517cd8"
      },
      "execution_count": 5,
      "outputs": [
        {
          "output_type": "stream",
          "name": "stdout",
          "text": [
            "False\n",
            "True\n",
            "True\n"
          ]
        }
      ]
    },
    {
      "cell_type": "code",
      "source": [
        "#11)Implement Bitwise operators with examples\n",
        "c=1\n",
        "d=2\n",
        "print(c==23 & d==46)\n",
        "print(c&d)\n",
        "print(c==25|d==20)\n",
        "print(c&d)\n",
        "print(c^d)\n",
        "print(~c)\n",
        "print(c>>2)\n",
        "print(d<<2)"
      ],
      "metadata": {
        "colab": {
          "base_uri": "https://localhost:8080/"
        },
        "id": "gpRD9hY1l_ET",
        "outputId": "edf71374-acc0-4bcd-bb83-ad7932c0f336"
      },
      "execution_count": 6,
      "outputs": [
        {
          "output_type": "stream",
          "name": "stdout",
          "text": [
            "False\n",
            "0\n",
            "False\n",
            "0\n",
            "3\n",
            "-2\n",
            "0\n",
            "8\n"
          ]
        }
      ]
    },
    {
      "cell_type": "code",
      "source": [
        "#12)Implement Membership operators with examples.\n",
        "st1=\"good morning\"\n",
        "print('h' in st1)\n",
        "print('i' in st1)\n",
        "print(\"oo\" in st1)\n",
        "print('h' not in st1)\n",
        "print('a' not in st1)\n",
        "print(\"in\" not in st1)"
      ],
      "metadata": {
        "colab": {
          "base_uri": "https://localhost:8080/"
        },
        "id": "mO0LftWwmJMv",
        "outputId": "26675895-d9bd-4089-f525-3fe66d21271e"
      },
      "execution_count": 7,
      "outputs": [
        {
          "output_type": "stream",
          "name": "stdout",
          "text": [
            "False\n",
            "True\n",
            "True\n",
            "True\n",
            "True\n",
            "False\n"
          ]
        }
      ]
    },
    {
      "cell_type": "code",
      "source": [
        "#13)Implement Identity operators with examples\n",
        "e=96\n",
        "f=67\n",
        "print(e is f)\n",
        "print(e is not f)"
      ],
      "metadata": {
        "colab": {
          "base_uri": "https://localhost:8080/"
        },
        "id": "Wu0GlS4qmgtC",
        "outputId": "b460cb16-0792-4666-c96f-cb0be0eab2ef"
      },
      "execution_count": 11,
      "outputs": [
        {
          "output_type": "stream",
          "name": "stdout",
          "text": [
            "False\n",
            "True\n"
          ]
        }
      ]
    },
    {
      "cell_type": "code",
      "source": [
        "#14)Demonstrate Negative indexing for List and apply slicing.\n",
        "l1=[5,3,8,9,5,46,'surya']\n",
        "# negative indexing\n",
        "print(l1[-1])\n",
        "print(l1[-7])\n",
        "print(l1[-4])\n",
        "#slicing\n",
        "print(l1[1:])\n",
        "print(l1[:])\n",
        "print(l1[::-1])"
      ],
      "metadata": {
        "colab": {
          "base_uri": "https://localhost:8080/"
        },
        "id": "tFN2fwhom0c3",
        "outputId": "55094bc6-1ba4-45bf-cd4f-a82714e56a32"
      },
      "execution_count": 14,
      "outputs": [
        {
          "output_type": "stream",
          "name": "stdout",
          "text": [
            "surya\n",
            "5\n",
            "9\n",
            "[3, 8, 9, 5, 46, 'surya']\n",
            "[5, 3, 8, 9, 5, 46, 'surya']\n",
            "['surya', 46, 5, 9, 8, 3, 5]\n"
          ]
        }
      ]
    },
    {
      "cell_type": "code",
      "source": [
        "#15)Predict the output for the given code snippet and justify the result.\n",
        "print( 'A series of characters designated as one object known as a string'[::-1][4::3] )\n",
        "#[::-1] it is for reversing and [4::3] it starts from 4 th index with step size as 3\n",
        "print(\"------------\")\n",
        "print( 'welcome to Python traing program'[3:10][::-1])\n",
        "#[3:10] it starts from 3 rd index and stops at 10 th index and the it will reverse the string"
      ],
      "metadata": {
        "colab": {
          "base_uri": "https://localhost:8080/"
        },
        "id": "I4000qHGnWOS",
        "outputId": "011376b5-6f56-40e2-f03c-a723d719705c"
      },
      "execution_count": 15,
      "outputs": [
        {
          "output_type": "stream",
          "name": "stdout",
          "text": [
            "taawkcbe  tgestrcoeeA\n",
            "------------\n",
            "ot emoc\n"
          ]
        }
      ]
    },
    {
      "cell_type": "code",
      "source": [
        "#16)Write a python code to get desired output; Input string : p_phrase = \"was it a car or a cat I saw\"; Output string : WAS I TAC A RO RAC A TI SAW\n",
        "p_phrase=\"was it a car or a cat I saw\"\n",
        "str22=p_phrase.upper()\n",
        "print(str22[::-1])\n",
        "\n",
        "\n"
      ],
      "metadata": {
        "colab": {
          "base_uri": "https://localhost:8080/"
        },
        "id": "YRS5KNwonw1b",
        "outputId": "e7f2ebc3-4f09-49b7-d639-279cde7a27c6"
      },
      "execution_count": 16,
      "outputs": [
        {
          "output_type": "stream",
          "name": "stdout",
          "text": [
            "WAS I TAC A RO RAC A TI SAW\n"
          ]
        }
      ]
    },
    {
      "cell_type": "code",
      "source": [
        "#17). You are required to generate a word similar to ZOO, X and Y that denote the number of Zs and Os respectively. The generated word similar to ZOO where Y= 2 * X. Input X= 2 Output ZZOOOO Input X= 5 Output ZZZZZOOOOOOOOOO\n",
        "x=int(input(\"Enter a number=\"))\n",
        "y=2*x\n",
        "print('x=',x)\n",
        "print('y=',y)\n",
        "print('Z'*x,'O'*y,sep='')"
      ],
      "metadata": {
        "colab": {
          "base_uri": "https://localhost:8080/"
        },
        "id": "Y4FN6rGtn-Z-",
        "outputId": "0487e156-e063-4220-9b8a-20707f31a362"
      },
      "execution_count": 17,
      "outputs": [
        {
          "output_type": "stream",
          "name": "stdout",
          "text": [
            "Enter a number=12\n",
            "x= 12\n",
            "y= 24\n",
            "ZZZZZZZZZZZZOOOOOOOOOOOOOOOOOOOOOOOO\n"
          ]
        }
      ]
    }
  ]
}